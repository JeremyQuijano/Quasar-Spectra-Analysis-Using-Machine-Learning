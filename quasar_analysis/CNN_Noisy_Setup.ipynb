{
 "cells": [
  {
   "cell_type": "code",
   "execution_count": 1,
   "metadata": {},
   "outputs": [],
   "source": [
    "# Import necessary packages\n",
    "import matplotlib.pyplot as plt\n",
    "import numpy as np\n",
    "import random\n",
    "import pickle\n",
    "import os\n",
    "import cv2\n",
    "from tqdm import tqdm\n",
    "from astropy.io import fits"
   ]
  },
  {
   "cell_type": "code",
   "execution_count": 7,
   "metadata": {},
   "outputs": [
    {
     "name": "stderr",
     "output_type": "stream",
     "text": [
      "100%|██████████| 4501/4501 [00:03<00:00, 1224.96it/s]\n",
      "100%|██████████| 4501/4501 [00:03<00:00, 1176.33it/s]\n",
      "100%|██████████| 4501/4501 [00:03<00:00, 1296.19it/s]\n"
     ]
    },
    {
     "name": "stdout",
     "output_type": "stream",
     "text": [
      "13500\n"
     ]
    },
    {
     "data": {
      "image/png": "[encoded data removed]",
      "text/plain": [
       "<Figure size 432x288 with 1 Axes>"
      ]
     },
     "metadata": {
      "needs_background": "light"
     },
     "output_type": "display_data"
    }
   ],
   "source": [
    "# Create path to data\n",
    "DATADIR = \"/Users/quijeremy/desktop/senior_thesis/spectra_data/training_data_clean\"\n",
    "\n",
    "CATEGORIES = [\"spectra_0.55HM12_zr9_z5.000_1D\", \"spectra_1.0HM12_zr9_z5.000_1D\", \"spectra_1.8HM12_zr9_z5.000_1D\"]\n",
    "\n",
    "# Create training data\n",
    "training_data = []\n",
    "for category in CATEGORIES:  # do 3 spectra\n",
    "\n",
    "    path = os.path.join(DATADIR,category)  # create path to each spectra\n",
    "    class_num = CATEGORIES.index(category)  # get the classification\n",
    "\n",
    "    for img in tqdm(os.listdir(path)):  # iterate over each image per spectra\n",
    "        noise = np.random.normal(0, 0.15, 2048)\n",
    "        try:\n",
    "            img_array = fits.getdata(path + '/' + img) + noise # convert to array\n",
    "            training_data.append([img_array, class_num])  # add this to our training_data\n",
    "        except Exception as e:  # in the interest in keeping the output clean...\n",
    "            pass\n",
    "        #except OSError as e:\n",
    "        #    print(\"OSErrroBad img most likely\", e, os.path.join(path,img))\n",
    "        #except Exception as e:\n",
    "        #    print(\"general exception\", e, os.path.join(path,img))\n",
    "\n",
    "# Make sure all data was imported\n",
    "print(len(training_data))\n",
    "\n",
    "# Plot a sample\n",
    "plt.plot(img_array)\n",
    "plt.show()"
   ]
  },
  {
   "cell_type": "code",
   "execution_count": 16,
   "metadata": {},
   "outputs": [
    {
     "name": "stdout",
     "output_type": "stream",
     "text": [
      "2\n",
      "0\n",
      "1\n",
      "0\n",
      "1\n",
      "0\n",
      "0\n",
      "2\n",
      "1\n",
      "0\n"
     ]
    }
   ],
   "source": [
    "# Shuffle data to avoid overfitting\n",
    "random.shuffle(training_data)\n",
    "\n",
    "for sample in training_data[:10]:\n",
    "    print(sample[1])"
   ]
  },
  {
   "cell_type": "code",
   "execution_count": 17,
   "metadata": {},
   "outputs": [
    {
     "name": "stdout",
     "output_type": "stream",
     "text": [
      "[-0.15005975 -0.21793953 -0.07153258 ...  0.09630957 -0.26332888\n",
      " -0.19612872]\n",
      "0\n",
      "[[[-0.09231846]\n",
      "  [-0.10788053]\n",
      "  [-0.03736438]\n",
      "  ...\n",
      "  [ 0.05473044]\n",
      "  [-0.0023041 ]\n",
      "  [-0.28430352]]]\n"
     ]
    }
   ],
   "source": [
    "# Create feature and label arrays\n",
    "X = []\n",
    "Y = []\n",
    "\n",
    "for features, label in training_data:\n",
    "    X.append(features)\n",
    "    Y.append(label)\n",
    "\n",
    "print(features)\n",
    "print(label)\n",
    "\n",
    "# Make sure reshape is correct\n",
    "print(X[0].reshape(-1, 2048, 1))\n",
    "\n",
    "X = np.array(X).reshape(-1, 2048, 1)"
   ]
  },
  {
   "cell_type": "code",
   "execution_count": 18,
   "metadata": {},
   "outputs": [],
   "source": [
    "# Create files to call later\n",
    "pickle_out = open(\"X.pickle\", \"wb\")\n",
    "pickle.dump(X, pickle_out)\n",
    "pickle_out.close()\n",
    "\n",
    "pickle_out = open(\"Y.pickle\",\"wb\")\n",
    "pickle.dump(Y, pickle_out)\n",
    "pickle_out.close()"
   ]
  },
  {
   "cell_type": "code",
   "execution_count": 19,
   "metadata": {},
   "outputs": [],
   "source": [
    "# Import data\n",
    "pickle_in = open(\"X.pickle\", \"rb\")\n",
    "X = pickle.load(pickle_in)\n",
    "\n",
    "pickle_in = open(\"Y.pickle\", \"rb\")\n",
    "Y = pickle.load(pickle_in)"
   ]
  },
  {
   "cell_type": "code",
   "execution_count": null,
   "metadata": {},
   "outputs": [],
   "source": []
  }
 ],
 "metadata": {
  "kernelspec": {
   "display_name": "Python 3",
   "language": "python",
   "name": "python3"
  },
  "language_info": {
   "codemirror_mode": {
    "name": "ipython",
    "version": 3
   },
   "file_extension": ".py",
   "mimetype": "text/x-python",
   "name": "python",
   "nbconvert_exporter": "python",
   "pygments_lexer": "ipython3",
   "version": "3.6.8"
  }
 },
 "nbformat": 4,
 "nbformat_minor": 2
}
