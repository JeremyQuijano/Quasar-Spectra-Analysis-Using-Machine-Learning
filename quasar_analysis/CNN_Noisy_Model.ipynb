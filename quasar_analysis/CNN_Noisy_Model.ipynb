{
 "cells": [
  {
   "cell_type": "code",
   "execution_count": 1,
   "metadata": {
    "scrolled": true
   },
   "outputs": [],
   "source": [
    "# Necessary packages\n",
    "import matplotlib.pyplot as plt\n",
    "import tensorflow as tf\n",
    "import numpy as np\n",
    "import os\n",
    "import cv2\n",
    "import time\n",
    "import pickle\n",
    "import random\n",
    "from tqdm import tqdm\n",
    "from astropy.io import fits\n",
    "from tensorflow.keras.models import Sequential\n",
    "from tensorflow.keras.callbacks import TensorBoard\n",
    "from tensorflow.keras.layers import Dense, Dropout, Activation, Flatten, Conv1D, MaxPooling1D"
   ]
  },
  {
   "cell_type": "code",
   "execution_count": 2,
   "metadata": {},
   "outputs": [
    {
     "name": "stdout",
     "output_type": "stream",
     "text": [
      "3-conv-16-nodes-0.15noise-1559674545\n",
      "WARNING:tensorflow:From /anaconda3/lib/python3.6/site-packages/tensorflow/python/ops/resource_variable_ops.py:435: colocate_with (from tensorflow.python.framework.ops) is deprecated and will be removed in a future version.\n",
      "Instructions for updating:\n",
      "Colocations handled automatically by placer.\n",
      "Train on 10800 samples, validate on 2700 samples\n",
      "Epoch 1/15\n",
      "10800/10800 [==============================] - 63s 6ms/sample - loss: 1.0427 - acc: 0.4123 - val_loss: 0.8452 - val_acc: 0.5830\n",
      "Epoch 2/15\n",
      "10800/10800 [==============================] - 62s 6ms/sample - loss: 0.8159 - acc: 0.6069 - val_loss: 0.7795 - val_acc: 0.6278\n",
      "Epoch 3/15\n",
      "10800/10800 [==============================] - 63s 6ms/sample - loss: 0.7669 - acc: 0.6315 - val_loss: 0.7624 - val_acc: 0.6211\n",
      "Epoch 4/15\n",
      "10800/10800 [==============================] - 63s 6ms/sample - loss: 0.7421 - acc: 0.6450 - val_loss: 0.7233 - val_acc: 0.6496\n",
      "Epoch 5/15\n",
      "10800/10800 [==============================] - 63s 6ms/sample - loss: 0.7257 - acc: 0.6535 - val_loss: 0.7984 - val_acc: 0.6178\n",
      "Epoch 6/15\n",
      "10800/10800 [==============================] - 62s 6ms/sample - loss: 0.7208 - acc: 0.6603 - val_loss: 0.7291 - val_acc: 0.6563\n",
      "Epoch 7/15\n",
      "10800/10800 [==============================] - 63s 6ms/sample - loss: 0.7007 - acc: 0.6652 - val_loss: 0.7228 - val_acc: 0.6622\n",
      "Epoch 8/15\n",
      "10800/10800 [==============================] - 63s 6ms/sample - loss: 0.6870 - acc: 0.6779 - val_loss: 0.7295 - val_acc: 0.6441\n",
      "Epoch 9/15\n",
      "10800/10800 [==============================] - 64s 6ms/sample - loss: 0.6732 - acc: 0.6855 - val_loss: 0.7309 - val_acc: 0.6519\n",
      "Epoch 10/15\n",
      "10800/10800 [==============================] - 63s 6ms/sample - loss: 0.6591 - acc: 0.6936 - val_loss: 0.8206 - val_acc: 0.6100\n",
      "Epoch 11/15\n",
      "10800/10800 [==============================] - 65s 6ms/sample - loss: 0.6549 - acc: 0.6957 - val_loss: 0.7746 - val_acc: 0.6356\n",
      "Epoch 12/15\n",
      "10800/10800 [==============================] - 64s 6ms/sample - loss: 0.6306 - acc: 0.7091 - val_loss: 0.7812 - val_acc: 0.6259\n",
      "Epoch 13/15\n",
      "10800/10800 [==============================] - 63s 6ms/sample - loss: 0.6216 - acc: 0.7157 - val_loss: 0.7824 - val_acc: 0.6285\n",
      "Epoch 14/15\n",
      "10800/10800 [==============================] - 63s 6ms/sample - loss: 0.5965 - acc: 0.7302 - val_loss: 0.9473 - val_acc: 0.5922\n",
      "Epoch 15/15\n",
      "10800/10800 [==============================] - 64s 6ms/sample - loss: 0.5750 - acc: 0.7450 - val_loss: 0.8037 - val_acc: 0.6274\n"
     ]
    }
   ],
   "source": [
    "# CNN Model\n",
    "X = pickle.load(open(\"X.pickle\", \"rb\"))\n",
    "Y = pickle.load(open(\"Y.pickle\", \"rb\"))\n",
    "\n",
    "conv_layers = [3]\n",
    "layer_sizes = [16]\n",
    "\n",
    "for conv_layer in conv_layers:\n",
    "    for layer_size in layer_sizes:\n",
    "        NAME = \"{}-conv-{}-nodes-0.15noise-{}\".format(conv_layer, layer_size, int(time.time()))\n",
    "        print(NAME)\n",
    "\n",
    "        model = Sequential()\n",
    "\n",
    "        for l in range(conv_layer):\n",
    "            model.add(Conv1D(kernel_size=layer_size,\n",
    "                             filters=32,\n",
    "                             input_shape=X.shape[1:],\n",
    "                             activation='relu'))\n",
    "            model.add(Conv1D(kernel_size=layer_size,\n",
    "                             filters=16,\n",
    "                             activation='relu'))\n",
    "            model.add(MaxPooling1D(pool_size=4))\n",
    "\n",
    "        model.add(Flatten())\n",
    "        model.add(Dense(3))\n",
    "        model.add(Activation('softmax'))\n",
    "\n",
    "        tensorboard = TensorBoard(log_dir=\"logs/{}\".format(NAME))\n",
    "\n",
    "        model.compile(loss='sparse_categorical_crossentropy',\n",
    "                      optimizer='adam',\n",
    "                      metrics=['accuracy'])\n",
    "\n",
    "        model.fit(X, Y,\n",
    "                  batch_size=25,\n",
    "                  epochs=15,\n",
    "                  validation_split=0.2,\n",
    "                  callbacks=[tensorboard])"
   ]
  },
  {
   "cell_type": "code",
   "execution_count": 3,
   "metadata": {},
   "outputs": [],
   "source": [
    "# Save the best model for predictions\n",
    "model.save(NAME)"
   ]
  },
  {
   "cell_type": "code",
   "execution_count": null,
   "metadata": {},
   "outputs": [],
   "source": []
  }
 ],
 "metadata": {
  "kernelspec": {
   "display_name": "Python 3",
   "language": "python",
   "name": "python3"
  },
  "language_info": {
   "codemirror_mode": {
    "name": "ipython",
    "version": 3
   },
   "file_extension": ".py",
   "mimetype": "text/x-python",
   "name": "python",
   "nbconvert_exporter": "python",
   "pygments_lexer": "ipython3",
   "version": "3.6.8"
  }
 },
 "nbformat": 4,
 "nbformat_minor": 2
}
