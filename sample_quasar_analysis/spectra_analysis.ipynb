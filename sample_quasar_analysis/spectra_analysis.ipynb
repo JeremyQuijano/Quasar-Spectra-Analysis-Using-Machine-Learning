{
 "cells": [
  {
   "cell_type": "code",
   "execution_count": 2,
   "metadata": {},
   "outputs": [],
   "source": [
    "# Necessary Packages\n",
    "%matplotlib inline\n",
    "import matplotlib.pyplot as plt\n",
    "import numpy as np\n",
    "import glob\n",
    "import random\n",
    "from astropy.io import fits"
   ]
  },
  {
   "cell_type": "code",
   "execution_count": 8,
   "metadata": {},
   "outputs": [
    {
     "ename": "SyntaxError",
     "evalue": "invalid syntax (<ipython-input-8-89cd99f57867>, line 11)",
     "output_type": "error",
     "traceback": [
      "\u001b[0;36m  File \u001b[0;32m\"<ipython-input-8-89cd99f57867>\"\u001b[0;36m, line \u001b[0;32m11\u001b[0m\n\u001b[0;31m    print(\"spectra_data:\", spectra_data[]) # will print array file of image data\u001b[0m\n\u001b[0m                                        ^\u001b[0m\n\u001b[0;31mSyntaxError\u001b[0m\u001b[0;31m:\u001b[0m invalid syntax\n"
     ]
    }
   ],
   "source": [
    "# Import the necessary file\n",
    "spectra = glob.glob('') # use full path name to reduce ambiguity\n",
    "\n",
    "# Make sure file paths are correct\n",
    "print(spectra) # will print the path to file\n",
    "\n",
    "# Get the image data\n",
    "spectra_data = np.array([fits.getdata(image) for image in spectra]) # gets the image data from fits file\n",
    "\n",
    "# Make sure the file shapes are correct\n",
    "print(\"spectra_data shape:\", np.shape(spectra_data))\n",
    "\n",
    "# Make sure data can be printed\n",
    "print(\"spectra_data:\", spectra_data[]) # will print array file of image data\n",
    "\n",
    "# Plot data\n",
    "plt.plot(spectra_data[i,j,:]) # plot an individual spectra\n",
    "\n",
    "for i in range(10): # plot 10 random 1d spectra\n",
    "    randnum = random.randint()\n",
    "    plt.plot(spectra_data[0,randnum,:])\n",
    "    plt.title(\"\" + str(randnum))\n",
    "    plt.show()\n",
    "    \n",
    "# Create individual 1D spectra files\n",
    "for i in range(): # splice the full spectra file into 1d spectra\n",
    "    spectra_1D = spectra_data[0,i,:]\n",
    "    outfile = '' # create a file path for individual 1d spectra\n",
    "    hdu = fits.PrimaryHDU(spectra_1D)\n",
    "    hdu.writeto(outfile, overwrite=True)"
   ]
  },
  {
   "cell_type": "code",
   "execution_count": null,
   "metadata": {},
   "outputs": [],
   "source": []
  }
 ],
 "metadata": {
  "kernelspec": {
   "display_name": "Python 3",
   "language": "python",
   "name": "python3"
  },
  "language_info": {
   "codemirror_mode": {
    "name": "ipython",
    "version": 3
   },
   "file_extension": ".py",
   "mimetype": "text/x-python",
   "name": "python",
   "nbconvert_exporter": "python",
   "pygments_lexer": "ipython3",
   "version": "3.6.8"
  }
 },
 "nbformat": 4,
 "nbformat_minor": 2
}
