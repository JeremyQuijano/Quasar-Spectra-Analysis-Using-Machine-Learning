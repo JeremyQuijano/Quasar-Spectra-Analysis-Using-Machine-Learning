{
 "cells": [
  {
   "cell_type": "code",
   "execution_count": 1,
   "metadata": {
    "scrolled": true
   },
   "outputs": [],
   "source": [
    "# Necessary packages\n",
    "import matplotlib.pyplot as plt\n",
    "import tensorflow as tf\n",
    "import numpy as np\n",
    "import os\n",
    "import cv2\n",
    "import time\n",
    "import pickle\n",
    "import random\n",
    "from tqdm import tqdm\n",
    "from astropy.io import fits\n",
    "from tensorflow.keras.models import Sequential\n",
    "from tensorflow.keras.callbacks import TensorBoard\n",
    "from tensorflow.keras.layers import Dense, Dropout, Activation, Flatten, Conv1D, MaxPooling1D"
   ]
  },
  {
   "cell_type": "code",
   "execution_count": 3,
   "metadata": {},
   "outputs": [
    {
     "name": "stdout",
     "output_type": "stream",
     "text": [
      "1-conv-2-nodes-\n"
     ]
    },
    {
     "ename": "AttributeError",
     "evalue": "'list' object has no attribute 'shape'",
     "output_type": "error",
     "traceback": [
      "\u001b[0;31m---------------------------------------------------------------------------\u001b[0m",
      "\u001b[0;31mAttributeError\u001b[0m                            Traceback (most recent call last)",
      "\u001b[0;32m<ipython-input-3-78f014dd0c76>\u001b[0m in \u001b[0;36m<module>\u001b[0;34m\u001b[0m\n\u001b[1;32m     17\u001b[0m             model.add(Conv1D(kernel_size=layer_size,\n\u001b[1;32m     18\u001b[0m                              \u001b[0mfilters\u001b[0m\u001b[0;34m=\u001b[0m\u001b[0;36m32\u001b[0m\u001b[0;34m,\u001b[0m\u001b[0;34m\u001b[0m\u001b[0;34m\u001b[0m\u001b[0m\n\u001b[0;32m---> 19\u001b[0;31m                              \u001b[0minput_shape\u001b[0m\u001b[0;34m=\u001b[0m\u001b[0mX\u001b[0m\u001b[0;34m.\u001b[0m\u001b[0mshape\u001b[0m\u001b[0;34m[\u001b[0m\u001b[0;36m1\u001b[0m\u001b[0;34m:\u001b[0m\u001b[0;34m]\u001b[0m\u001b[0;34m,\u001b[0m\u001b[0;34m\u001b[0m\u001b[0;34m\u001b[0m\u001b[0m\n\u001b[0m\u001b[1;32m     20\u001b[0m                              activation='relu'))\n\u001b[1;32m     21\u001b[0m             model.add(Conv1D(kernel_size=layer_size,\n",
      "\u001b[0;31mAttributeError\u001b[0m: 'list' object has no attribute 'shape'"
     ]
    }
   ],
   "source": [
    "# CNN Model\n",
    "X = pickle.load(open(\"X.pickle\", \"rb\"))\n",
    "Y = pickle.load(open(\"Y.pickle\", \"rb\"))\n",
    "\n",
    "conv_layers = [1,2,3,4,5]\n",
    "layer_sizes = [2,4,8,16,32,64]\n",
    "\n",
    "# setup to test optimal parameters\n",
    "for conv_layer in conv_layers:\n",
    "    for layer_size in layer_sizes:\n",
    "        NAME = \"{}-conv-{}-nodes-\".format(conv_layer, layer_size, int(time.time()))\n",
    "        print(NAME)\n",
    "\n",
    "        model = Sequential()\n",
    "\n",
    "        for l in range(conv_layer):\n",
    "            model.add(Conv1D(kernel_size=layer_size,\n",
    "                             filters=32,\n",
    "                             input_shape=X.shape[1:],\n",
    "                             activation='relu'))\n",
    "            model.add(Conv1D(kernel_size=layer_size,\n",
    "                             filters=16,\n",
    "                             activation='relu'))\n",
    "            model.add(MaxPooling1D(pool_size=4))\n",
    "\n",
    "        model.add(Flatten())\n",
    "        model.add(Dense(3))\n",
    "        model.add(Activation('softmax'))\n",
    "\n",
    "        # used to see visual graph of optimization for each iteration\n",
    "        tensorboard = TensorBoard(log_dir=\"logs/{}\".format(NAME))\n",
    "\n",
    "        model.compile(loss='sparse_categorical_crossentropy',\n",
    "                      optimizer='adam',\n",
    "                      metrics=['accuracy'])\n",
    "\n",
    "        model.fit(X, Y,\n",
    "                  batch_size=25,\n",
    "                  epochs=15,\n",
    "                  validation_split=0.2,\n",
    "                  callbacks=[tensorboard])"
   ]
  },
  {
   "cell_type": "code",
   "execution_count": 4,
   "metadata": {},
   "outputs": [],
   "source": [
    "# Save the best model for predictions\n",
    "model.save(NAME)"
   ]
  },
  {
   "cell_type": "code",
   "execution_count": null,
   "metadata": {},
   "outputs": [],
   "source": []
  }
 ],
 "metadata": {
  "kernelspec": {
   "display_name": "Python 3",
   "language": "python",
   "name": "python3"
  },
  "language_info": {
   "codemirror_mode": {
    "name": "ipython",
    "version": 3
   },
   "file_extension": ".py",
   "mimetype": "text/x-python",
   "name": "python",
   "nbconvert_exporter": "python",
   "pygments_lexer": "ipython3",
   "version": "3.6.8"
  }
 },
 "nbformat": 4,
 "nbformat_minor": 2
}
